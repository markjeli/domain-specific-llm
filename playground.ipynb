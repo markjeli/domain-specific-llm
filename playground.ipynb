{
 "cells": [
  {
   "cell_type": "code",
   "execution_count": 1,
   "id": "a5e9a36c",
   "metadata": {},
   "outputs": [
    {
     "name": "stderr",
     "output_type": "stream",
     "text": [
      "/home/user/projects/domain-specific-llm/venv11/lib/python3.11/site-packages/tqdm/auto.py:21: TqdmWarning: IProgress not found. Please update jupyter and ipywidgets. See https://ipywidgets.readthedocs.io/en/stable/user_install.html\n",
      "  from .autonotebook import tqdm as notebook_tqdm\n"
     ]
    }
   ],
   "source": [
    "from transformers import AutoTokenizer, AutoModelForCausalLM\n",
    "from datasets import load_dataset"
   ]
  },
  {
   "cell_type": "code",
   "execution_count": 8,
   "id": "76d533a5",
   "metadata": {},
   "outputs": [
    {
     "data": {
      "application/vnd.jupyter.widget-view+json": {
       "model_id": "cdadd6ec9b534ab9ae35194f67cca550",
       "version_major": 2,
       "version_minor": 0
      },
      "text/plain": [
       "Map (num_proc=4):   0%|          | 0/25692 [00:00<?, ? examples/s]"
      ]
     },
     "metadata": {},
     "output_type": "display_data"
    }
   ],
   "source": [
    "dataset = load_dataset(\"ruslanmv/ai-medical-chatbot\", split=\"train[:10%]\")\n",
    "\n",
    "tokenizer = AutoTokenizer.from_pretrained(\"meta-llama/Llama-3.2-1B-Instruct\")\n",
    "tokenizer.pad_token = \"<|finetune_right_pad_id|>\"                                     \n",
    "def format_chat_template(row):\n",
    "    row_json = [\n",
    "        {\"role\": \"user\", \"content\": row[\"Patient\"]},\n",
    "        {\"role\": \"assistant\", \"content\": row[\"Doctor\"]},\n",
    "    ]\n",
    "    row = tokenizer.apply_chat_template(row_json, tokenize=False)\n",
    "    tokenized_row = tokenizer(row, padding=\"max_length\", max_length=2048)\n",
    "\n",
    "    return tokenized_row\n",
    "\n",
    "tokenized_chat_dataset = dataset.map(\n",
    "    format_chat_template,\n",
    "    num_proc=4,\n",
    "    remove_columns=[\"Description\", \"Patient\", \"Doctor\"],\n",
    ")"
   ]
  },
  {
   "cell_type": "code",
   "execution_count": null,
   "id": "3a66a176",
   "metadata": {},
   "outputs": [],
   "source": [
    "tokenized_chat_dataset['input_ids'][0]"
   ]
  },
  {
   "cell_type": "code",
   "execution_count": 5,
   "id": "a1ee5134",
   "metadata": {},
   "outputs": [
    {
     "data": {
      "text/plain": [
       "('Llama-3.2-1B-abstract2-v4/tokenizer_config.json',\n",
       " 'Llama-3.2-1B-abstract2-v4/special_tokens_map.json',\n",
       " 'Llama-3.2-1B-abstract2-v4/tokenizer.json')"
      ]
     },
     "execution_count": 5,
     "metadata": {},
     "output_type": "execute_result"
    }
   ],
   "source": [
    "model_checkpoint = \"checkpoint-10500\"\n",
    "save_path = \"Llama-3.2-1B-abstract2-v4\"\n",
    "model = AutoModelForCausalLM.from_pretrained(model_checkpoint)\n",
    "tokenizer = AutoTokenizer.from_pretrained(model_checkpoint)\n",
    "model.save_pretrained(save_path)\n",
    "tokenizer.save_pretrained(save_path)"
   ]
  }
 ],
 "metadata": {
  "kernelspec": {
   "display_name": "venv11",
   "language": "python",
   "name": "python3"
  },
  "language_info": {
   "codemirror_mode": {
    "name": "ipython",
    "version": 3
   },
   "file_extension": ".py",
   "mimetype": "text/x-python",
   "name": "python",
   "nbconvert_exporter": "python",
   "pygments_lexer": "ipython3",
   "version": "3.11.11"
  }
 },
 "nbformat": 4,
 "nbformat_minor": 5
}
